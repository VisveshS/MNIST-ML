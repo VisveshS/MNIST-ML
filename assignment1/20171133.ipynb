{
 "cells": [
  {
   "cell_type": "markdown",
   "metadata": {
    "editable": false
   },
   "source": [
    "# Assignment 1\n",
    "This jupyter notebook is meant to be used in conjunction with the full questions in the assignment pdf.\n",
    "\n",
    "## Instructions\n",
    "- Write your code and analyses in the indicated cells.\n",
    "- Ensure that this notebook runs without errors when the cells are run in sequence.\n",
    "- Do not attempt to change the contents of the other cells.\n",
    "\n",
    "## Submission\n",
    "- Ensure that this notebook runs without errors when the cells are run in sequence.\n",
    "- Rename the notebook to `<roll_number>.ipynb` and submit ONLY the notebook file on moodle."
   ]
  },
  {
   "cell_type": "markdown",
   "metadata": {
    "editable": false
   },
   "source": [
    "### Environment setup\n",
    "\n",
    "The following code reads the train and test data (provided along with this template) and outputs the data and labels as numpy arrays. Use these variables in your code.\n",
    "\n",
    "---\n",
    "#### Note on conventions\n",
    "In mathematical notation, the convention is tha data matrices are column-indexed, which means that a input data $x$ has shape $[d, n]$, where $d$ is the number of dimensions and $n$ is the number of data points, respectively.\n",
    "\n",
    "Programming languages have a slightly different convention. Data matrices are of shape $[n, d]$. This has the benefit of being able to access the ith data point as a simple `data[i]`.\n",
    "\n",
    "What this means is that you need to be careful about your handling of matrix dimensions. For example, while the covariance matrix (of shape $[d,d]$) for input data $x$ is calculated as $(x-u)(x-u)^T$, while programming you would do $(x-u)^T(x-u)$ to get the correct output shapes."
   ]
  },
  {
   "cell_type": "code",
   "execution_count": 1,
   "metadata": {
    "editable": false,
    "scrolled": true
   },
   "outputs": [
    {
     "name": "stdout",
     "output_type": "stream",
     "text": [
      "(6000, 784) (1000, 784)\n",
      "(6000,) (1000,)\n"
     ]
    }
   ],
   "source": [
    "from __future__ import print_function\n",
    "\n",
    "import numpy as np\n",
    "import matplotlib.pyplot as plt\n",
    "\n",
    "def read_data(filename):\n",
    "    with open(filename, 'r') as f:\n",
    "        lines = f.readlines()\n",
    "    \n",
    "    num_points = len(lines)\n",
    "    dim_points = 28 * 28\n",
    "    data = np.empty((num_points, dim_points))\n",
    "    labels = np.empty(num_points)\n",
    "    \n",
    "    for ind, line in enumerate(lines):\n",
    "        num = line.split(',')\n",
    "        labels[ind] = int(num[0])\n",
    "        data[ind] = [ int(x) for x in num[1:] ]\n",
    "        \n",
    "    return (data, labels)\n",
    "\n",
    "train_data, train_labels = read_data(\"sample_train.csv\")\n",
    "test_data, test_labels = read_data(\"sample_test.csv\")\n",
    "print(train_data.shape, test_data.shape)\n",
    "print(train_labels.shape, test_labels.shape)"
   ]
  },
  {
   "cell_type": "markdown",
   "metadata": {
    "editable": false
   },
   "source": [
    "# Questions\n",
    "---\n",
    "## 1.3.1 Representation\n",
    "The next code cells, when run, should plot the eigen value spectrum of the covariance matrices corresponding to the mentioned samples. Normalize the eigen value spectrum and only show the first 100 values."
   ]
  },
  {
   "cell_type": "code",
   "execution_count": 2,
   "metadata": {},
   "outputs": [
    {
     "data": {
      "image/png": "[encoded data removed]",
      "text/plain": [
       "<Figure size 432x288 with 1 Axes>"
      ]
     },
     "metadata": {
      "needs_background": "light"
     },
     "output_type": "display_data"
    }
   ],
   "source": [
    "# DATA CORRESPONDING TO MY NUMBER\n",
    "import warnings\n",
    "warnings.filterwarnings('ignore')\n",
    "\n",
    "my_number = 3\n",
    "remove = []\n",
    "DIMENSION = 784\n",
    "\n",
    "for i in range(train_data.shape[0]):\n",
    "    if train_labels[i] != my_number:\n",
    "        remove.append(i)\n",
    "        \n",
    "train_data1 = np.copy(train_data)\n",
    "train_labels1 = np.copy(train_labels)\n",
    "\n",
    "train_data1 = np.delete(train_data1,remove,0)\n",
    "train_labels1 = np.delete(train_labels1,remove,0)\n",
    "\n",
    "x = np.empty((0,train_data1.shape[0]))\n",
    "for i in range(train_data1.shape[1]):\n",
    "    x = np.vstack([x,train_data1[:,i]])\n",
    "\n",
    "COV = np.cov(x)\n",
    "val , vec = np.linalg.eig(COV)\n",
    "val.sort()\n",
    "\n",
    "plt.bar(range(100),np.flip(val)[0:100]/np.max(val))\n",
    "plt.show()"
   ]
  },
  {
   "cell_type": "code",
   "execution_count": 3,
   "metadata": {},
   "outputs": [
    {
     "data": {
      "image/png": "[encoded data removed]",
      "text/plain": [
       "<Figure size 432x288 with 1 Axes>"
      ]
     },
     "metadata": {
      "needs_background": "light"
     },
     "output_type": "display_data"
    }
   ],
   "source": [
    "# DATA CORRESPONDING TO MY NUMBER+1\n",
    "my_number = 4\n",
    "remove = []\n",
    "DIMENSION = 784\n",
    "\n",
    "for i in range(train_data.shape[0]):\n",
    "    if train_labels[i] != my_number:\n",
    "        remove.append(i)\n",
    "\n",
    "train_data1 = np.copy(train_data)\n",
    "train_labels1 = np.copy(train_labels)\n",
    "\n",
    "train_data1 = np.delete(train_data1,remove,0)\n",
    "train_labels1 = np.delete(train_labels1,remove,0)\n",
    "\n",
    "x = np.empty((0,train_data1.shape[0]))\n",
    "for i in range(train_data1.shape[1]):\n",
    "    x = np.vstack([x,train_data1[:,i]])\n",
    "\n",
    "COV = np.cov(x)\n",
    "val , vec = np.linalg.eig(COV)\n",
    "val.sort()\n",
    "\n",
    "plt.bar(range(100),np.flip(val)[0:100]/np.max(val))\n",
    "plt.show()"
   ]
  },
  {
   "cell_type": "code",
   "execution_count": 4,
   "metadata": {},
   "outputs": [
    {
     "name": "stdout",
     "output_type": "stream",
     "text": [
      "(6000, 784)\n"
     ]
    },
    {
     "data": {
      "image/png": "[encoded data removed]",
      "text/plain": [
       "<Figure size 432x288 with 1 Axes>"
      ]
     },
     "metadata": {
      "needs_background": "light"
     },
     "output_type": "display_data"
    }
   ],
   "source": [
    "# ALL DATA SAMPLES\n",
    "DIMENSION = 784\n",
    "\n",
    "train_data1 = np.copy(train_data)\n",
    "train_labels1 = np.copy(train_labels)\n",
    "\n",
    "x = np.empty((0,train_data1.shape[0]))\n",
    "for i in range(train_data1.shape[1]):\n",
    "    x = np.vstack([x,train_data1[:,i]])\n",
    "\n",
    "COV = np.cov(x)\n",
    "val , vec = np.linalg.eig(COV)\n",
    "val.sort()\n",
    "print(train_data1.shape)\n",
    "plt.bar(range(100),np.flip(val)[0:100]/np.max(val))\n",
    "plt.show()"
   ]
  },
  {
   "cell_type": "code",
   "execution_count": 5,
   "metadata": {},
   "outputs": [
    {
     "name": "stdout",
     "output_type": "stream",
     "text": [
      "(3000, 784)\n"
     ]
    },
    {
     "data": {
      "image/png": "[encoded data removed]",
      "text/plain": [
       "<Figure size 432x288 with 1 Axes>"
      ]
     },
     "metadata": {
      "needs_background": "light"
     },
     "output_type": "display_data"
    }
   ],
   "source": [
    "# RANDOM 50% DATA SAMPLES\n",
    "remove = np.random.choice(np.arange(train_data.shape[0]),int(train_data.shape[0]/2),False)\n",
    "DIMENSION = 784\n",
    "\n",
    "train_data1 = np.copy(train_data)\n",
    "train_labels1 = np.copy(train_labels)\n",
    "\n",
    "train_data1 = np.delete(train_data1,remove,0)\n",
    "train_labels1 = np.delete(train_labels1,remove,0)\n",
    "\n",
    "x = np.empty((0,train_data1.shape[0]))\n",
    "for i in range(train_data1.shape[1]):\n",
    "    x = np.vstack([x,train_data1[:,i]])\n",
    "\n",
    "COV = np.cov(x)\n",
    "val , vec = np.linalg.eig(COV)\n",
    "val.sort()\n",
    "print(train_data1.shape)\n",
    "plt.bar(range(100),np.flip(val)[0:100]/np.max(val))\n",
    "plt.show()"
   ]
  },
  {
   "cell_type": "markdown",
   "metadata": {
    "editable": false
   },
   "source": [
    "### 1.3.1 Question 1\n",
    "- Are plots a and b different? Why?\n",
    "- Are plots b and c different? Why?\n",
    "- What are the approximate ranks of each plot?"
   ]
  },
  {
   "cell_type": "markdown",
   "metadata": {},
   "source": [
    "---\n",
    "* <font color=blue>Plots __a__ and __b__ are *similar*. This is because all vectors are somewhat similar to one another and thus covariance matrix will have lower approximate rank.</font>\n",
    "* <font color=blue> plots __b__ and __c__ are *different* because in __c__ we take all numbers into consideration and thus many eigenvectors are of high magnitude, but in __b__ they can be approximately described by few eigenvectors as it represents the same number.\n",
    "</font>\n",
    "* <font color = \"blue\">Number of eigenvalues above 0.5 for __a__ and __b__ are *2* and for __c__ and __d__ it is *5*. Thus 1<sup>st</sup> two will have lower approximate rank than next two</font>\n",
    "---"
   ]
  },
  {
   "cell_type": "markdown",
   "metadata": {
    "editable": false
   },
   "source": [
    "### 1.3.1 Question 2\n",
    "- How many possible images could there be?\n",
    "- What percentage is accessible to us as MNIST data?\n",
    "- If we had acces to all the data, how would the eigen value spectrum of the covariance matrix look?"
   ]
  },
  {
   "cell_type": "markdown",
   "metadata": {},
   "source": [
    "---\n",
    "* <font color=blue>2<sup>784</sup> distinct images</font>\n",
    "* <font color=blue>$100 \\times \\frac{7000}{2^{784}}$ &rightarrow; 0%</font>\n",
    "* <font color=blue>Since all possible images would be possible there wouldn't be any correlation between any two dimensions thus covariance matrix would be a diagonal matrix and their **magnitudes would be the same** due to symmetry.</font>\n",
    "---"
   ]
  },
  {
   "cell_type": "markdown",
   "metadata": {
    "editable": false
   },
   "source": [
    "## 1.3.2 Linear Transformation\n",
    "---\n",
    "### 1.3.2 Question 1\n",
    "How does the eigen spectrum change if the original data was multiplied by an orthonormal matrix? Answer analytically and then also validate experimentally."
   ]
  },
  {
   "cell_type": "markdown",
   "metadata": {},
   "source": [
    "<font color=blue>Multiplication by orthonormal matrix is same as rotation without any scaling. Therefore magnitude of stretching along various axis will remain the *same*.Therefore eigenspectrum **will not change**</font>"
   ]
  },
  {
   "cell_type": "code",
   "execution_count": 6,
   "metadata": {},
   "outputs": [
    {
     "data": {
      "image/png": "[encoded data removed]",
      "text/plain": [
       "<Figure size 432x288 with 2 Axes>"
      ]
     },
     "metadata": {
      "needs_background": "light"
     },
     "output_type": "display_data"
    }
   ],
   "source": [
    "# Experimental validation here.\n",
    "# Multiply your data (train_data) with an orthonormal matrix and plot the\n",
    "# eigen value specturm of the new covariance matrix.\n",
    "\n",
    "DIMENSION = 784\n",
    "\n",
    "Randarray = np.random.rand(DIMENSION,DIMENSION)\n",
    "[orthonormal,upper_triangular] = np.linalg.qr(Randarray)\n",
    "\n",
    "train_data1 = np.copy(train_data)\n",
    "train_data2 = np.copy(train_data)\n",
    "\n",
    "for i in range(train_data2.shape[0]):\n",
    "    train_data2[i,:] = np.dot(orthonormal,train_data1[i,:]);\n",
    "    \n",
    "x = np.empty((0,train_data1.shape[0]))\n",
    "x2 = np.empty((0,train_data2.shape[0]))\n",
    "for i in range(train_data1.shape[1]):\n",
    "    x = np.vstack([x,train_data1[:,i]])\n",
    "    x2 = np.vstack([x2,train_data2[:,i]])\n",
    "\n",
    "COV = np.cov(x)\n",
    "COV2 = np.cov(x2)\n",
    "val , vec = np.linalg.eig(COV)\n",
    "val2 , vec2 = np.linalg.eig(COV2)\n",
    "val.sort()\n",
    "val2.sort()\n",
    "fig = plt.figure()\n",
    "ax1 = fig.add_subplot(121)\n",
    "ax2 = fig.add_subplot(122)\n",
    "ax1.bar(range(100),np.flip(val)[0:100]/np.max(val))\n",
    "ax1.title.set_text('original data')\n",
    "ax2.bar(range(100),np.flip(val2)[0:100]/np.max(val2),color=(1.0,0.0,0.0,1.0))\n",
    "ax2.title.set_text('data after \\n multiplication with \\n orthnonormal matrix')\n",
    "plt.show()"
   ]
  },
  {
   "cell_type": "markdown",
   "metadata": {
    "editable": false
   },
   "source": [
    "### 1.3.2 Question 2\n",
    "If  samples  were  multiplied  by  784 × 784  matrix  of rank 1 or 2, (rank deficient matrices), how will the eigen spectrum look like?"
   ]
  },
  {
   "cell_type": "markdown",
   "metadata": {},
   "source": [
    "<font color=blue>If samples were multiplied by rank deficient matrix (say of rank k), then number of non-zero eigenvectors will be k. Hence **eigen spectrum will have only 1 or 2 lines** depending on whether we multiply wth matrix of rank 1 or 2.</font>"
   ]
  },
  {
   "cell_type": "markdown",
   "metadata": {
    "editable": false
   },
   "source": [
    "### 1.3.2 Question 3\n",
    "Project the original data into the first and second eigenvectors and plot in 2D"
   ]
  },
  {
   "cell_type": "code",
   "execution_count": 7,
   "metadata": {},
   "outputs": [
    {
     "data": {
      "image/png": "[encoded data removed]",
      "text/plain": [
       "<Figure size 432x288 with 1 Axes>"
      ]
     },
     "metadata": {
      "needs_background": "light"
     },
     "output_type": "display_data"
    }
   ],
   "source": [
    "# Plotting code here\n",
    "[u,s,v]=np.linalg.svd(train_data)\n",
    "plt.scatter(u[:,0]*s[0],u[:,1]*s[1], color='darkblue', marker='o',s=0.02)\n",
    "plt.show()"
   ]
  },
  {
   "cell_type": "markdown",
   "metadata": {
    "editable": false
   },
   "source": [
    "## 1.3.3 Probabilistic View\n",
    "---\n",
    "In this section you will classify the test set by fitting multivariate gaussians on the train set, with different choices for decision boundaries. On running, your code should print the accuracy on your test set."
   ]
  },
  {
   "cell_type": "code",
   "execution_count": null,
   "metadata": {
    "scrolled": true
   },
   "outputs": [
    {
     "name": "stdout",
     "output_type": "stream",
     "text": [
      "11 8\n",
      "41 33\n"
     ]
    }
   ],
   "source": [
    "# Print accuracy on the test set using MLE\n",
    "\n",
    "import math\n",
    "def mahan_lobis(v,m,s):\n",
    "\tx = v-m\n",
    "\tSum = 0\n",
    "\tST = s.T\n",
    "\tev,evec = np.linalg.eig(ST)\n",
    "\tprod = np.product([ev[i] for i in range(40)])\n",
    "\tx= np.array(x)\n",
    "\tfor i in range(len(v)):\n",
    "\t\tSum = Sum + np.dot(x,ST[i])*x[i];\n",
    "\tprod = np.abs(prod)\n",
    "\tprod = prod+1\n",
    "\tprod = math.log(prod)\n",
    "\treturn Sum+prod\n",
    "def mle(T,label):\n",
    "\tbest = []\n",
    "\tfor i in range(10):\n",
    "\t\tC = [train_data[x,:] for x in range(train_data.shape[0]) if train_labels[x]==i]\n",
    "\t\tC = np.array(C)\n",
    "\t\tC1 = C.T\n",
    "\t\tS = np.cov(C1)\n",
    "\t\tM = [np.mean(C[:,i]) for i in range(len(C[0]))]\n",
    "\t\tdist1 = mahan_lobis(T,M[i],S)\n",
    "\t\tbest.append(dist1)\n",
    "\treturn (np.argmax(best)==label)\n",
    "\n",
    "s = 0\n",
    "for n in range(test_data.shape[0]):\n",
    "\tT = test_data[n,:]\n",
    "\ts = s+mle(T,test_labels[n])\n",
    "\tif n%30==10:\n",
    "\t\tprint(n+1,s)\n",
    "print(s/10,'%')"
   ]
  },
  {
   "cell_type": "code",
   "execution_count": null,
   "metadata": {},
   "outputs": [],
   "source": [
    "# Print accuracy on the test set using MAP\n",
    "# (assume a reasonable prior and mention it in the comments)\n",
    "\n",
    "import math\n",
    "def mahan_lobis(v,m,s):\n",
    "\tx = v-m\n",
    "\tSum = 0\n",
    "\tST = s.T\n",
    "\tev,evec = np.linalg.eig(ST)\n",
    "\tprod = np.product([ev[i] for i in range(40)])\n",
    "\tx= np.array(x)\n",
    "\tfor i in range(len(v)):\n",
    "\t\tSum = Sum + np.dot(x,ST[i])*x[i];\n",
    "\tprod = np.abs(prod)\n",
    "\tprod = prod+1\n",
    "\tprod = math.log(prod)\n",
    "\tposterior_knowledge=10;#let\n",
    "\treturn Sum+prod+posterior_knowledge\n",
    "def mle(T,label):\n",
    "\tbest = []\n",
    "\tfor i in range(10):\n",
    "\t\tC = [train_data[x,:] for x in range(train_data.shape[0]) if train_labels[x]==i]\n",
    "\t\tC = np."
   ]
  },
  {
   "cell_type": "code",
   "execution_count": null,
   "metadata": {},
   "outputs": [],
   "source": [
    "# Print accuracy using Bayesian pairwise majority voting method\n",
    "def mahan_lobis(v,m,s):\n",
    "\tx = v-m\n",
    "\tSum = 0\n",
    "\tfor i in range(len(v)):\n",
    "\t\tSum = Sum + np.dot(x,s[:,i])*x[i];\n",
    "\treturn Sum\n",
    "def samesigma(T,label):\n",
    "\tbest = []\n",
    "\tmeans = []\n",
    "\tsigmas = []\n",
    "\tvotes = [0 for i in range(10)]\n",
    "\tfor i in range(10):\n",
    "\t\tC = [train_data[x,:] for x in range(train_data.shape[0]) if train_labels[x]==i]\n",
    "\t\tC = np.array(C)\n",
    "\t\tC1 = C.T\n",
    "\t\tS = np.cov(C1)\n",
    "\t\tM = [np.mean(C[:,i]) for i in range(len(C[0]))]\n",
    "\t\tmeans.append(M)\n",
    "\t\tsigmas.append(S)\n",
    "\tfor i in range(10):\n",
    "\t\tfor j in range(i+1,10):\n",
    "\t\t\ts=(sigmas[i]+sigmas[j])/2\n",
    "\t\t\tdist1 = mahan_lobis(T,means[i],s)\n",
    "\t\t\tdist2 = mahan_lobis(T,means[j],s)\n",
    "\t\t\tif dist1<dist2:\n",
    "\t\t\t\tvotes[i] = votes[i]+1\n",
    "\t\t\telse:\n",
    "\t\t\t\tvotes[j] = votes[j]+1\n",
    "\treturn (np.argmax(votes)==label)\n",
    "\n",
    "s = 0\n",
    "for n in range(test_data.shape[0]):\n",
    "\tT = test_data[n,:]\n",
    "\ts = s+samesigma(T,test_labels[n])\n",
    "\tif n%30==0:\n",
    "\t\tprint(n+1,s)"
   ]
  },
  {
   "cell_type": "code",
   "execution_count": null,
   "metadata": {},
   "outputs": [],
   "source": [
    "# Print accuracy using Simple Perpendicular Bisector majority voting method\n",
    "def perpBisector(T,label):\n",
    "\tbest = []\n",
    "\tmeans = []\n",
    "\tvotes = [0 for i in range(10)]\n",
    "\tfor i in range(10):\n",
    "\t\tC = [train_data[x,:] for x in range(train_data.shape[0]) if train_labels[x]==i]\n",
    "\t\tC = np.array(C)\n",
    "\t\tM = [np.mean(C[:,i]) for i in range(len(C[0]))]\n",
    "\t\tmeans.append(M)\n",
    "\tfor i in range(10):\n",
    "\t\tfor j in range(i+1,10):\n",
    "\t\t\tdist1 = np.linalg.norm(means[i]-T)\n",
    "\t\t\tdist2 = np.linalg.norm(means[j]-T)\n",
    "\t\t\tif dist1<dist2:\n",
    "\t\t\t\tvotes[i] = votes[i]+1\n",
    "\t\t\telse:\n",
    "\t\t\t\tvotes[j] = votes[j]+1\n",
    "\treturn (np.argmax(votes)==label)\n",
    "\n",
    "s = 0\n",
    "for n in range(test_data.shape[0]):\n",
    "\tT = test_data[n,:]\n",
    "\ts = s+perpBisector(T,test_labels[n])\n",
    "\tif n%30==0:\n",
    "\t\tprint(n+1,s)\n",
    "print(s/10)"
   ]
  },
  {
   "cell_type": "markdown",
   "metadata": {
    "editable": false
   },
   "source": [
    "### 1.3.3 Question 4\n",
    "Compare performances and salient observations"
   ]
  },
  {
   "cell_type": "markdown",
   "metadata": {},
   "source": [
    "* <font color=blue>MLL and MLE have **same accuracies** because there is no significant knowledge we have about the image we are trying to classify hence it could be any of the 10 numbers.Hence multiplying all by 0.1 doesn't change anything.</font>\n",
    "* <font color=blue>Simple bisector and voting is faster to run but doesn't give results as accurate as bayesian pairwise.This is because bayesian pairwise uses mahalanobis distance,which takes into account the distribution as well as mean.</font>\n",
    "* <font color=blue>Large matrix multiplications increases chances for error and hence may result in anomalies.</font>"
   ]
  },
  {
   "cell_type": "markdown",
   "metadata": {
    "editable": false
   },
   "source": [
    "## 1.3.4 Nearest Neighbour based Tasks and Design\n",
    "---\n",
    "### 1.3.4 Question 1 : NN Classification with various K\n",
    "Implement a KNN classifier and print accuracies on the test set with K=1,3,7"
   ]
  },
  {
   "cell_type": "code",
   "execution_count": null,
   "metadata": {
    "scrolled": true
   },
   "outputs": [],
   "source": [
    "# Your code here\n",
    "# Print accuracies with K = 1, 3, 7\n",
    "def most_frequent(List): \n",
    "    return max(set(List), key = List.count) \n",
    "\n",
    "def KNN(k):\n",
    "\tcorrect = 0\n",
    "\tfor i in range(test_data.shape[0]):\n",
    "\t\tdistance = []\n",
    "\t\tfor j in range(train_data.shape[0]):\n",
    "\t\t\ttemp = [np.linalg.norm(test_data[i,:]-train_data[j,:]),train_labels[j]]\n",
    "\t\t\tdistance.append(temp)\n",
    "\t\tdistance.sort(key=lambda x:x[0])\n",
    "\t\tbest_labels=[x[1] for x in distance[0:k]]\n",
    "\t\tby_knn = most_frequent(best_labels)\n",
    "\t\tif by_knn == test_labels[i]:\n",
    "\t\t\tcorrect = correct+1\n",
    "\treturn correct\n",
    "a1 = KNN(1)#accuracy with K=1\n",
    "a3 = KNN(3)#accuracy with K=3\n",
    "a7 = KNN(7)#accuracy with K=7\n",
    "print(\"Nearest Neighbour with:\")\n",
    "print(\"K=1\",a1/10,\"%\")\n",
    "print(\"K=3\",a3/10,\"%\")\n",
    "print(\"K=7\",a7/10,\"%\")"
   ]
  },
  {
   "cell_type": "markdown",
   "metadata": {
    "editable": false
   },
   "source": [
    "### 1.3.4 Question 1 continued\n",
    "- Why / why not are the accuracies the same?\n",
    "- How do we identify the best K? Suggest a computational procedure with a logical explanation."
   ]
  },
  {
   "cell_type": "markdown",
   "metadata": {},
   "source": [
    "* <font color=blue>There are some cases where nearest need not be the correct label as it could be an outlier. So we must see more than 1 neighbour. Hence this causes difference in accuracy.</font>\n",
    "* <font color=blue>If K=1 we are at risk of comparing with an outlier. But taking too many neighbours (high K) means we are also giving weightage to far away neighbours.Hence we test for different values of k.<br>We observe KNN is most accurate for **K=3**.</font>"
   ]
  },
  {
   "cell_type": "markdown",
   "metadata": {
    "editable": false
   },
   "source": [
    "### 1.3.4 Question 2 :  Reverse NN based outlier detection\n",
    "A sample can be thought of as an outlier is it is NOT in the nearest neighbour set of anybody else. Expand this idea into an algorithm."
   ]
  },
  {
   "cell_type": "code",
   "execution_count": null,
   "metadata": {
    "editable": false
   },
   "outputs": [],
   "source": [
    "# This cell reads mixed data containing both MNIST digits and English characters.\n",
    "# The labels for this mixed data are random and are hence ignored.\n",
    "mixed_data, _ = read_data(\"outliers.csv\")\n",
    "print(mixed_data.shape)"
   ]
  },
  {
   "cell_type": "code",
   "execution_count": null,
   "metadata": {},
   "outputs": [],
   "source": [
    "def KNN(k,mixed_data):\n",
    "\tdistance = []\n",
    "\tfor i in range(train_data.shape[0]):\n",
    "\t\ttemp = [np.linalg.norm(mixed_data-train_data[i,:]),i]\n",
    "\t\tdistance.append(temp)\n",
    "\tdistance.sort(key=lambda x: x[0])\n",
    "\tnearest50 = [x[1] for x in distance[0:50]]\n",
    "\toutlier = 1\n",
    "\tfor z in nearest50:\n",
    "\t\tdistance = []\n",
    "\t\tfor i in range(train_data.shape[0]):\n",
    "\t\t\tif i == z:\n",
    "\t\t\t\tcontinue\n",
    "\t\t\ttemp = [np.linalg.norm(train_data[z]-train_data[i,:]),i]\n",
    "\t\t\tdistance.append(temp)\n",
    "\t\tdistance.sort(key=lambda x:x[0])\n",
    "\t\treversenearest = distance[k-1][0]\n",
    "\t\tif reversenearest >= np.linalg.norm(train_data[z]-mixed_data):\n",
    "\t\t\toutlier = 0\n",
    "\treturn outlier\n",
    "\n",
    "for k in [1,3,7]:\n",
    "\ts = 0\n",
    "\tfor i in range(mixed_data.shape[0]):\n",
    "\t\ts = s+KNN(k,mixed_data[i,:])\n",
    "\tprint(\"Number of outliers with k=\",k,\":\",s)\n"
   ]
  },
  {
   "cell_type": "markdown",
   "metadata": {
    "editable": false
   },
   "source": [
    "### 1.3.4 Question 3 : NN for regression\n",
    "Assume that each classID in the train set corresponds to a neatness score as:\n",
    "$$ neatness = \\frac{classID}{10} $$\n",
    "\n",
    "---\n",
    "Assume we had to predict the neatness score for each test sample using NN based techiniques on the train set. Describe the algorithm."
   ]
  },
  {
   "cell_type": "markdown",
   "metadata": {},
   "source": [
    "<font color=blue>With NN we predict classID, then we divide by 10 and this is predicted neatness score.</font>"
   ]
  },
  {
   "cell_type": "markdown",
   "metadata": {
    "editable": false
   },
   "source": [
    "### 1.3.4 Question 3 continued\n",
    "Validate your algorithm on the test set. This code should print mean absolute error on the test set, using the train set for NN based regression."
   ]
  },
  {
   "cell_type": "code",
   "execution_count": null,
   "metadata": {},
   "outputs": [],
   "source": [
    "from __future__ import print_function\n",
    "\n",
    "import numpy as np\n",
    "import matplotlib.pyplot as plt\n",
    "\n",
    "def read_data(filename):\n",
    "    with open(filename, 'r') as f:\n",
    "        lines = f.readlines()\n",
    "    \n",
    "    num_points = len(lines)\n",
    "    dim_points = 28 * 28\n",
    "    data = np.empty((num_points, dim_points))\n",
    "    labels = np.empty(num_points)\n",
    "    \n",
    "    for ind, line in enumerate(lines):\n",
    "        num = line.split(',')\n",
    "        labels[ind] = int(num[0])\n",
    "        data[ind] = [ int(x) for x in num[1:] ]\n",
    "        \n",
    "    return (data, labels)\n",
    "\n",
    "train_data, train_labels = read_data(\"sample_train.csv\")\n",
    "test_data, test_labels = read_data(\"sample_test.csv\")\n",
    "print(train_data.shape, test_data.shape)\n",
    "print(train_labels.shape, test_labels.shape)\n",
    "# Your code here\n",
    "# Your code here\n",
    "# Print accuracies with K = 1, 3, 7\n",
    "def most_frequent(List): \n",
    "    return max(set(List), key = List.count) \n",
    "\n",
    "def KNN(k):\n",
    "\terror = 0\n",
    "\tfor i in range(test_data.shape[0]):\n",
    "\t\tdistance = []\n",
    "\t\tfor j in range(train_data.shape[0]):\n",
    "\t\t\ttemp = [np.linalg.norm(test_data[i,:]-train_data[j,:]),train_labels[j]]\n",
    "\t\t\tdistance.append(temp)\n",
    "\t\tdistance.sort(key=lambda x:x[0])\n",
    "\t\tbest_labels=[x[1] for x in distance[0:k]]\n",
    "\t\tby_knn = most_frequent(best_labels)\n",
    "\t\terror = error+abs(by_knn-test_labels[i])/10;\n",
    "\treturn error/1000\n",
    "e1=KNN(1)\n",
    "e3=KNN(3)\n",
    "e7=KNN(7)\n",
    "print(\"Error when k=:1\",e1)\n",
    "print(\"Error when k=:3\",e3)\n",
    "print(\"Error when k=:7\",e7)"
   ]
  },
  {
   "cell_type": "markdown",
   "metadata": {
    "editable": false
   },
   "source": [
    "---\n",
    "# FOLLOW THE SUBMISSION INSTRUCTIONS\n",
    "---"
   ]
  }
 ],
 "metadata": {
  "kernelspec": {
   "display_name": "Python 3",
   "language": "python",
   "name": "python3"
  },
  "language_info": {
   "codemirror_mode": {
    "name": "ipython",
    "version": 3
   },
   "file_extension": ".py",
   "mimetype": "text/x-python",
   "name": "python",
   "nbconvert_exporter": "python",
   "pygments_lexer": "ipython3",
   "version": "3.7.5"
  }
 },
 "nbformat": 4,
 "nbformat_minor": 2
}
